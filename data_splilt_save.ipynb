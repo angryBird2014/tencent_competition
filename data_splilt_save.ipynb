{
 "cells": [
  {
   "cell_type": "code",
   "execution_count": 1,
   "metadata": {
    "collapsed": true
   },
   "outputs": [],
   "source": [
    "import pandas as pd\n",
    "import pickle\n",
    "\n",
    "user_install_path = 'data/user_installedapps.csv'"
   ]
  },
  {
   "cell_type": "code",
   "execution_count": null,
   "metadata": {},
   "outputs": [],
   "source": [
    "def time_transfer(value):\n",
    "    '''\n",
    "\n",
    "    :param value:int\n",
    "    :return: dataframe\n",
    "    '''\n",
    "\n",
    "    day = 0\n",
    "    hour = 0\n",
    "    minute = 0\n",
    "    second = 0\n",
    "\n",
    "    timeStr = str(value)\n",
    "    if len(timeStr) == 8:\n",
    "        day = int(timeStr[:2])\n",
    "        hour = int(timeStr[2:4])\n",
    "        minute = int(timeStr[4:6])\n",
    "        second = int(timeStr[6:])\n",
    "\n",
    "    return day,hour,minute,second\n"
   ]
  },
  {
   "cell_type": "code",
   "execution_count": null,
   "metadata": {},
   "outputs": [],
   "source": [
    "user_app_action = pd.read_csv('data/user_app_actions.csv')\n",
    "time_dataframe = time_transfer(user_app_action['installTime'])\n",
    "user_app_action = user_app_action.drop('installTime',axis = 1)\n",
    "user_app_action_time = pc.concat([user_app_action,time_dataframe],axis =1)\n",
    "del user_app_action\n",
    "del time_dataframe"
   ]
  },
  {
   "cell_type": "code",
   "execution_count": 2,
   "metadata": {
    "collapsed": false
   },
   "outputs": [
    {
     "name": "stdout",
     "output_type": "stream",
     "text": [
      "   userID  appID  appCategory\n",
      "0       1    357          201\n",
      "1       1    360          201\n",
      "2       1    362          409\n",
      "3       1    365          301\n",
      "4       1    375          203\n"
     ]
    }
   ],
   "source": [
    "user_install = pd.read_csv(user_install_path)\n",
    "app_category = pd.read_csv('data/app_categories.csv')\n",
    "\n",
    "\n",
    "user_app_action = user_app_action[['userID','appID']]\n",
    "userID_appID = pd.concat([user_install,user_app_action],axis=0)\n",
    "data = pd.merge(userID_appID,app_category,how='left',on='appID')\n",
    "print(data.head())\n",
    "#pickle.dump(data,open('saved_file/userID_appID.pkl','wb'),protocol=4)"
   ]
  },
  {
   "cell_type": "code",
   "execution_count": 11,
   "metadata": {
    "collapsed": false
   },
   "outputs": [],
   "source": [
    "split_point = len(data)//4"
   ]
  },
  {
   "cell_type": "code",
   "execution_count": 8,
   "metadata": {
    "collapsed": false
   },
   "outputs": [
    {
     "name": "stdout",
     "output_type": "stream",
     "text": [
      "307325879\n"
     ]
    }
   ],
   "source": [
    "print(split_point)"
   ]
  },
  {
   "cell_type": "code",
   "execution_count": 12,
   "metadata": {
    "collapsed": true
   },
   "outputs": [],
   "source": [
    "data1 = data[:split_point][:]\n",
    "#data2 = data[split_point:][:]"
   ]
  },
  {
   "cell_type": "code",
   "execution_count": 14,
   "metadata": {
    "collapsed": false
   },
   "outputs": [],
   "source": [
    "pickle.dump(data1,open('1.pkl','wb'),protocol=4)"
   ]
  },
  {
   "cell_type": "code",
   "execution_count": 15,
   "metadata": {
    "collapsed": true
   },
   "outputs": [],
   "source": [
    "data2 = data[split_point:split_point*2]\n",
    "data3 = data[split_point*2:split_point*3]\n",
    "data4 = data[split_point*3:][:]"
   ]
  },
  {
   "cell_type": "code",
   "execution_count": null,
   "metadata": {
    "collapsed": true
   },
   "outputs": [],
   "source": [
    "pickle.dump(data2,open)"
   ]
  }
 ],
 "metadata": {
  "anaconda-cloud": {},
  "kernelspec": {
   "display_name": "Python [Root]",
   "language": "python",
   "name": "Python [Root]"
  },
  "language_info": {
   "codemirror_mode": {
    "name": "ipython",
    "version": 3.0
   },
   "file_extension": ".py",
   "mimetype": "text/x-python",
   "name": "python",
   "nbconvert_exporter": "python",
   "pygments_lexer": "ipython3",
   "version": "3.5.2"
  }
 },
 "nbformat": 4,
 "nbformat_minor": 0
}